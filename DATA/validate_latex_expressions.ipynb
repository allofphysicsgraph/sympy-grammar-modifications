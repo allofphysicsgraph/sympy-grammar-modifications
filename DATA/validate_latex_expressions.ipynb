{
 "cells": [
  {
   "cell_type": "code",
   "execution_count": 162,
   "metadata": {},
   "outputs": [],
   "source": [
    "from IPython.display import display, Math, Latex\n",
    "from IPython.display import clear_output\n",
    "import os"
   ]
  },
  {
   "cell_type": "code",
   "execution_count": null,
   "metadata": {},
   "outputs": [],
   "source": [
    "def get_exitcode_stdout_stderr(cmd):\n",
    "    import shlex\n",
    "    import subprocess\n",
    "\n",
    "    \"\"\"\n",
    "    description: Execute the external command and get its exitcode, stdout and stderr.\n",
    "    source     : https://stackoverflow.com/questions/1996518/retrieving-the-output-of-subprocess-call\n",
    "    \"\"\"\n",
    "    args = shlex.split(cmd)\n",
    "    proc = subprocess.Popen(args, stdout=subprocess.PIPE, stderr=subprocess.PIPE)\n",
    "    out, err = proc.communicate()\n",
    "    exitcode = proc.returncode\n",
    "    return exitcode, out, err\n"
   ]
  },
  {
   "cell_type": "code",
   "execution_count": 159,
   "metadata": {},
   "outputs": [],
   "source": [
    "new_start = 0"
   ]
  },
  {
   "cell_type": "code",
   "execution_count": null,
   "metadata": {},
   "outputs": [],
   "source": []
  },
  {
   "cell_type": "code",
   "execution_count": 194,
   "metadata": {},
   "outputs": [],
   "source": [
    "latex_file_path = '/home/user/sympy-grammar-modifications/DATA/verify_latex'\n",
    "file_name = latex_file_path.split('/')[-1]\n",
    "print(file_name)\n",
    "os.chdir('/'.join(latex_file_path.split('/')[:-1]))\n",
    "f = open(latex_file_path)\n",
    "data = f.readlines()\n",
    "print(len(data))\n",
    "data = [x.strip() for x in data if x]\n",
    "print(len(data))\n",
    "f.close()\n",
    "\n",
    "\n",
    "\n",
    "delete = []\n",
    "for indx in range(new_start,len(data)):\n",
    "        display(Math(r'{}'.format(data[indx])))\n",
    "        x = input()\n",
    "        if x == '0':\n",
    "            delete.append(\"sed -i \\\"{}d\\\" {}\".format(indx+1,file_name))\n",
    "            get_exitcode_stdout_stderr('{}'.format(delete[0]))\n",
    "            print(indx)\n",
    "            new_start=indx-5\n",
    "            break\n",
    "        if indx % 10 == 0:\n",
    "            clear_output()"
   ]
  },
  {
   "cell_type": "code",
   "execution_count": 98,
   "metadata": {},
   "outputs": [],
   "source": []
  }
 ],
 "metadata": {
  "kernelspec": {
   "display_name": "Python 3",
   "language": "python",
   "name": "python3"
  },
  "language_info": {
   "codemirror_mode": {
    "name": "ipython",
    "version": 3
   },
   "file_extension": ".py",
   "mimetype": "text/x-python",
   "name": "python",
   "nbconvert_exporter": "python",
   "pygments_lexer": "ipython3",
   "version": "3.7.3"
  }
 },
 "nbformat": 4,
 "nbformat_minor": 4
}
